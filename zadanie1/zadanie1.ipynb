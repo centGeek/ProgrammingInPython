{
 "cells": [
  {
   "cell_type": "code",
   "execution_count": 6,
   "id": "58f541a8-a658-4a05-a20c-3ccee144c5ba",
   "metadata": {},
   "outputs": [],
   "source": [
    "import pandas as pd\n",
    "data = pd.read_csv(\"data.csv\")"
   ]
  },
  {
   "cell_type": "markdown",
   "id": "2f84b7b0",
   "metadata": {},
   "source": [
    "### 1 point"
   ]
  },
  {
   "cell_type": "code",
   "execution_count": 13,
   "id": "0e7a44cc-da20-4dc2-b726-aae23cd255c3",
   "metadata": {},
   "outputs": [
    {
     "name": "stdout",
     "output_type": "stream",
     "text": [
      "        Count  Percentage\n",
      "  Male   1527     36.5661\n",
      "Infant   1342     32.1360\n",
      "Female   1307     31.2979\n"
     ]
    }
   ],
   "source": [
    "\n",
    "data.columns = [\n",
    "    'sex', \n",
    "    'length [mm]', \n",
    "    'diameter [mm]', \n",
    "    'height [mm]', \n",
    "    'whole weight [g]', \n",
    "    'shucked weight [g]', \n",
    "    'viscera weight [g]', \n",
    "    'shell weight [g]', \n",
    "    'rings'\n",
    "]\n",
    "\n",
    "data['sex'] = data['sex'].map({'M': 'Male', 'F': 'Female', 'I': 'Infant'})\n",
    "\n",
    "gender_counts = data['sex'].value_counts().reset_index()\n",
    "gender_counts.columns = ['', 'Count']\n",
    "gender_counts['Percentage'] = (gender_counts['Count'] / gender_counts['Count'].sum() * 100).round(4)\n",
    "\n",
    "print(gender_counts.to_string(index=False))"
   ]
  },
  {
   "cell_type": "code",
   "execution_count": null,
   "id": "bf3c99c2-1acd-4c90-b68f-4d7cf09efc80",
   "metadata": {},
   "outputs": [],
   "source": [
    "### 2\n"
   ]
  },
  {
   "cell_type": "code",
   "execution_count": null,
   "id": "aaac6a89-6966-4653-9a74-e00812eace7e",
   "metadata": {},
   "outputs": [],
   "source": []
  }
 ],
 "metadata": {
  "kernelspec": {
   "display_name": "Python 3",
   "language": "python",
   "name": "python3"
  },
  "language_info": {
   "codemirror_mode": {
    "name": "ipython",
    "version": 3
   },
   "file_extension": ".py",
   "mimetype": "text/x-python",
   "name": "python",
   "nbconvert_exporter": "python",
   "pygments_lexer": "ipython3",
   "version": "3.12.2"
  }
 },
 "nbformat": 4,
 "nbformat_minor": 5
}
